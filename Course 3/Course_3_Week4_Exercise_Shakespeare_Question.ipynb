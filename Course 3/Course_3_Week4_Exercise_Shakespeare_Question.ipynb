{
  "cells": [
    {
      "cell_type": "code",
      "metadata": {
        "id": "zX4Kg8DUTKWO"
      },
      "source": [
        "#@title Licensed under the Apache License, Version 2.0 (the \"License\");\n",
        "# you may not use this file except in compliance with the License.\n",
        "# You may obtain a copy of the License at\n",
        "#\n",
        "# https://www.apache.org/licenses/LICENSE-2.0\n",
        "#\n",
        "# Unless required by applicable law or agreed to in writing, software\n",
        "# distributed under the License is distributed on an \"AS IS\" BASIS,\n",
        "# WITHOUT WARRANTIES OR CONDITIONS OF ANY KIND, either express or implied.\n",
        "# See the License for the specific language governing permissions and\n",
        "# limitations under the License."
      ],
      "execution_count": null,
      "outputs": []
    },
    {
      "cell_type": "code",
      "execution_count": 3,
      "metadata": {
        "id": "BOwsuGQQY9OL"
      },
      "outputs": [],
      "source": [
        "from tensorflow.keras.preprocessing.sequence import pad_sequences\n",
        "from tensorflow.keras.layers import Embedding, LSTM, Dense, Dropout, Bidirectional\n",
        "from tensorflow.keras.preprocessing.text import Tokenizer\n",
        "from tensorflow.keras.models import Sequential\n",
        "from tensorflow.keras.optimizers import Adam\n",
        "### YOUR CODE HERE\n",
        "from tensorflow.keras.regularizers import Regularizer\n",
        "###\n",
        "import tensorflow.keras.utils as ku \n",
        "import numpy as np "
      ]
    },
    {
      "cell_type": "code",
      "execution_count": 2,
      "metadata": {
        "colab": {
          "base_uri": "https://localhost:8080/"
        },
        "id": "PRnDnCW-Z7qv",
        "outputId": "88cb084f-a08c-4db2-b12c-a43101d7d25c"
      },
      "outputs": [
        {
          "output_type": "stream",
          "name": "stdout",
          "text": [
            "--2022-07-24 15:02:45--  https://storage.googleapis.com/laurencemoroney-blog.appspot.com/sonnets.txt\n",
            "Resolving storage.googleapis.com (storage.googleapis.com)... 173.194.213.128, 173.194.214.128, 173.194.215.128, ...\n",
            "Connecting to storage.googleapis.com (storage.googleapis.com)|173.194.213.128|:443... connected.\n",
            "HTTP request sent, awaiting response... 200 OK\n",
            "Length: 93578 (91K) [text/plain]\n",
            "Saving to: ‘/tmp/sonnets.txt’\n",
            "\n",
            "\r/tmp/sonnets.txt      0%[                    ]       0  --.-KB/s               \r/tmp/sonnets.txt    100%[===================>]  91.38K  --.-KB/s    in 0.001s  \n",
            "\n",
            "2022-07-24 15:02:46 (89.7 MB/s) - ‘/tmp/sonnets.txt’ saved [93578/93578]\n",
            "\n"
          ]
        }
      ],
      "source": [
        "tokenizer = Tokenizer()\n",
        "!wget --no-check-certificate \\\n",
        "    https://storage.googleapis.com/laurencemoroney-blog.appspot.com/sonnets.txt \\\n",
        "    -O /tmp/sonnets.txt\n",
        "data = open('/tmp/sonnets.txt').read()\n",
        "\n",
        "corpus = data.lower().split(\"\\n\")\n",
        "\n",
        "\n",
        "tokenizer.fit_on_texts(corpus)\n",
        "total_words = len(tokenizer.word_index) + 1\n",
        "\n",
        "# create input sequences using list of tokens\n",
        "input_sequences = []\n",
        "for line in corpus:\n",
        "\ttoken_list = tokenizer.texts_to_sequences([line])[0]\n",
        "\tfor i in range(1, len(token_list)):\n",
        "\t\tn_gram_sequence = token_list[:i+1]\n",
        "\t\tinput_sequences.append(n_gram_sequence)\n",
        "\n",
        "\n",
        "# pad sequences \n",
        "max_sequence_len = max([len(x) for x in input_sequences])\n",
        "input_sequences = np.array(pad_sequences(input_sequences, maxlen=max_sequence_len, padding='pre'))\n",
        "\n",
        "# create predictors and label\n",
        "predictors, label = input_sequences[:,:-1],input_sequences[:,-1]\n",
        "\n",
        "label = ku.to_categorical(label, num_classes=total_words)"
      ]
    },
    {
      "cell_type": "code",
      "execution_count": 6,
      "metadata": {
        "colab": {
          "base_uri": "https://localhost:8080/"
        },
        "id": "w9vH8Y59ajYL",
        "outputId": "128f2dd8-cb7c-420d-e6d8-ac71890935cd"
      },
      "outputs": [
        {
          "output_type": "stream",
          "name": "stdout",
          "text": [
            "Model: \"sequential_2\"\n",
            "_________________________________________________________________\n",
            " Layer (type)                Output Shape              Param #   \n",
            "=================================================================\n",
            " embedding_2 (Embedding)     (None, 10, 100)           321100    \n",
            "                                                                 \n",
            " lstm_3 (LSTM)               (None, 10, 50)            30200     \n",
            "                                                                 \n",
            " dropout_1 (Dropout)         (None, 10, 50)            0         \n",
            "                                                                 \n",
            " lstm_4 (LSTM)               (None, 50)                20200     \n",
            "                                                                 \n",
            " dense (Dense)               (None, 128)               6528      \n",
            "                                                                 \n",
            " dense_1 (Dense)             (None, 3211)              414219    \n",
            "                                                                 \n",
            "=================================================================\n",
            "Total params: 792,247\n",
            "Trainable params: 792,247\n",
            "Non-trainable params: 0\n",
            "_________________________________________________________________\n",
            "None\n"
          ]
        }
      ],
      "source": [
        "model = Sequential()\n",
        "model.add(Embedding(total_words,100,input_length = max_sequence_len-1))\n",
        "model.add(LSTM(50,return_sequences=True))\n",
        "model.add(Dropout(0.2))\n",
        "model.add(LSTM(50))\n",
        "model.add(Dense(128,activation='relu'))\n",
        "model.add(Dense(total_words,activation='sigmoid'))\n",
        "# Pick an optimizer\n",
        "model.compile(optimizer='adam',loss='categorical_crossentropy',metrics=['accuracy'])\n",
        "print(model.summary())\n"
      ]
    },
    {
      "cell_type": "code",
      "execution_count": 7,
      "metadata": {
        "colab": {
          "base_uri": "https://localhost:8080/"
        },
        "id": "AIg2f1HBxqof",
        "outputId": "d2cef93b-8faf-42a1-e36c-2ae57d5aa5a2"
      },
      "outputs": [
        {
          "output_type": "stream",
          "name": "stdout",
          "text": [
            "Epoch 1/100\n",
            "484/484 [==============================] - 19s 30ms/step - loss: 6.8931 - accuracy: 0.0213\n",
            "Epoch 2/100\n",
            "484/484 [==============================] - 15s 30ms/step - loss: 6.5017 - accuracy: 0.0228\n",
            "Epoch 3/100\n",
            "484/484 [==============================] - 15s 31ms/step - loss: 6.3979 - accuracy: 0.0255\n",
            "Epoch 4/100\n",
            "484/484 [==============================] - 14s 30ms/step - loss: 6.2556 - accuracy: 0.0347\n",
            "Epoch 5/100\n",
            "484/484 [==============================] - 14s 30ms/step - loss: 6.1175 - accuracy: 0.0388\n",
            "Epoch 6/100\n",
            "484/484 [==============================] - 15s 30ms/step - loss: 5.9851 - accuracy: 0.0424\n",
            "Epoch 7/100\n",
            "484/484 [==============================] - 14s 30ms/step - loss: 5.8585 - accuracy: 0.0463\n",
            "Epoch 8/100\n",
            "484/484 [==============================] - 15s 30ms/step - loss: 5.7377 - accuracy: 0.0471\n",
            "Epoch 9/100\n",
            "484/484 [==============================] - 15s 30ms/step - loss: 5.6229 - accuracy: 0.0506\n",
            "Epoch 10/100\n",
            "484/484 [==============================] - 15s 30ms/step - loss: 5.5106 - accuracy: 0.0551\n",
            "Epoch 11/100\n",
            "484/484 [==============================] - 14s 30ms/step - loss: 5.4014 - accuracy: 0.0569\n",
            "Epoch 12/100\n",
            "484/484 [==============================] - 14s 30ms/step - loss: 5.2931 - accuracy: 0.0625\n",
            "Epoch 13/100\n",
            "484/484 [==============================] - 15s 30ms/step - loss: 5.1861 - accuracy: 0.0669\n",
            "Epoch 14/100\n",
            "484/484 [==============================] - 14s 30ms/step - loss: 5.0717 - accuracy: 0.0748\n",
            "Epoch 15/100\n",
            "484/484 [==============================] - 14s 30ms/step - loss: 4.9605 - accuracy: 0.0802\n",
            "Epoch 16/100\n",
            "484/484 [==============================] - 14s 30ms/step - loss: 4.8461 - accuracy: 0.0845\n",
            "Epoch 17/100\n",
            "484/484 [==============================] - 14s 30ms/step - loss: 4.7299 - accuracy: 0.0904\n",
            "Epoch 18/100\n",
            "484/484 [==============================] - 14s 30ms/step - loss: 4.5955 - accuracy: 0.0977\n",
            "Epoch 19/100\n",
            "484/484 [==============================] - 15s 30ms/step - loss: 4.4815 - accuracy: 0.1109\n",
            "Epoch 20/100\n",
            "484/484 [==============================] - 15s 30ms/step - loss: 4.3613 - accuracy: 0.1184\n",
            "Epoch 21/100\n",
            "484/484 [==============================] - 14s 30ms/step - loss: 4.2447 - accuracy: 0.1275\n",
            "Epoch 22/100\n",
            "484/484 [==============================] - 15s 30ms/step - loss: 4.1300 - accuracy: 0.1411\n",
            "Epoch 23/100\n",
            "484/484 [==============================] - 14s 30ms/step - loss: 4.0314 - accuracy: 0.1518\n",
            "Epoch 24/100\n",
            "484/484 [==============================] - 14s 30ms/step - loss: 3.9269 - accuracy: 0.1627\n",
            "Epoch 25/100\n",
            "484/484 [==============================] - 14s 30ms/step - loss: 3.8309 - accuracy: 0.1779\n",
            "Epoch 26/100\n",
            "484/484 [==============================] - 14s 29ms/step - loss: 3.7361 - accuracy: 0.1849\n",
            "Epoch 27/100\n",
            "484/484 [==============================] - 14s 30ms/step - loss: 3.6425 - accuracy: 0.2011\n",
            "Epoch 28/100\n",
            "484/484 [==============================] - 14s 29ms/step - loss: 3.5520 - accuracy: 0.2191\n",
            "Epoch 29/100\n",
            "484/484 [==============================] - 14s 30ms/step - loss: 3.4649 - accuracy: 0.2270\n",
            "Epoch 30/100\n",
            "484/484 [==============================] - 14s 29ms/step - loss: 3.3832 - accuracy: 0.2410\n",
            "Epoch 31/100\n",
            "484/484 [==============================] - 14s 30ms/step - loss: 3.3122 - accuracy: 0.2554\n",
            "Epoch 32/100\n",
            "484/484 [==============================] - 14s 30ms/step - loss: 3.2387 - accuracy: 0.2662\n",
            "Epoch 33/100\n",
            "484/484 [==============================] - 14s 30ms/step - loss: 3.1700 - accuracy: 0.2753\n",
            "Epoch 34/100\n",
            "484/484 [==============================] - 14s 30ms/step - loss: 3.1000 - accuracy: 0.2886\n",
            "Epoch 35/100\n",
            "484/484 [==============================] - 14s 30ms/step - loss: 3.0414 - accuracy: 0.2979\n",
            "Epoch 36/100\n",
            "484/484 [==============================] - 14s 30ms/step - loss: 2.9735 - accuracy: 0.3128\n",
            "Epoch 37/100\n",
            "484/484 [==============================] - 14s 30ms/step - loss: 2.9093 - accuracy: 0.3234\n",
            "Epoch 38/100\n",
            "484/484 [==============================] - 14s 29ms/step - loss: 2.8594 - accuracy: 0.3311\n",
            "Epoch 39/100\n",
            "484/484 [==============================] - 14s 30ms/step - loss: 2.8099 - accuracy: 0.3395\n",
            "Epoch 40/100\n",
            "484/484 [==============================] - 14s 30ms/step - loss: 2.7468 - accuracy: 0.3544\n",
            "Epoch 41/100\n",
            "484/484 [==============================] - 14s 30ms/step - loss: 2.6951 - accuracy: 0.3594\n",
            "Epoch 42/100\n",
            "484/484 [==============================] - 14s 30ms/step - loss: 2.6538 - accuracy: 0.3699\n",
            "Epoch 43/100\n",
            "484/484 [==============================] - 14s 30ms/step - loss: 2.6081 - accuracy: 0.3833\n",
            "Epoch 44/100\n",
            "484/484 [==============================] - 14s 30ms/step - loss: 2.5519 - accuracy: 0.3924\n",
            "Epoch 45/100\n",
            "484/484 [==============================] - 14s 29ms/step - loss: 2.5266 - accuracy: 0.3945\n",
            "Epoch 46/100\n",
            "484/484 [==============================] - 14s 29ms/step - loss: 2.4763 - accuracy: 0.4015\n",
            "Epoch 47/100\n",
            "484/484 [==============================] - 19s 40ms/step - loss: 2.4363 - accuracy: 0.4100\n",
            "Epoch 48/100\n",
            "484/484 [==============================] - 14s 29ms/step - loss: 2.4143 - accuracy: 0.4177\n",
            "Epoch 49/100\n",
            "484/484 [==============================] - 14s 29ms/step - loss: 2.3640 - accuracy: 0.4265\n",
            "Epoch 50/100\n",
            "484/484 [==============================] - 14s 29ms/step - loss: 2.3280 - accuracy: 0.4358\n",
            "Epoch 51/100\n",
            "484/484 [==============================] - 14s 29ms/step - loss: 2.2969 - accuracy: 0.4411\n",
            "Epoch 52/100\n",
            "484/484 [==============================] - 14s 29ms/step - loss: 2.2638 - accuracy: 0.4484\n",
            "Epoch 53/100\n",
            "484/484 [==============================] - 14s 29ms/step - loss: 2.2272 - accuracy: 0.4611\n",
            "Epoch 54/100\n",
            "484/484 [==============================] - 15s 30ms/step - loss: 2.2026 - accuracy: 0.4642\n",
            "Epoch 55/100\n",
            "484/484 [==============================] - 14s 29ms/step - loss: 2.1663 - accuracy: 0.4695\n",
            "Epoch 56/100\n",
            "484/484 [==============================] - 14s 29ms/step - loss: 2.1375 - accuracy: 0.4777\n",
            "Epoch 57/100\n",
            "484/484 [==============================] - 14s 29ms/step - loss: 2.1051 - accuracy: 0.4844\n",
            "Epoch 58/100\n",
            "484/484 [==============================] - 14s 28ms/step - loss: 2.0748 - accuracy: 0.4872\n",
            "Epoch 59/100\n",
            "484/484 [==============================] - 14s 28ms/step - loss: 2.0495 - accuracy: 0.4940\n",
            "Epoch 60/100\n",
            "484/484 [==============================] - 14s 28ms/step - loss: 2.0244 - accuracy: 0.4988\n",
            "Epoch 61/100\n",
            "484/484 [==============================] - 14s 29ms/step - loss: 2.0021 - accuracy: 0.5050\n",
            "Epoch 62/100\n",
            "484/484 [==============================] - 14s 28ms/step - loss: 1.9852 - accuracy: 0.5076\n",
            "Epoch 63/100\n",
            "484/484 [==============================] - 14s 28ms/step - loss: 1.9544 - accuracy: 0.5155\n",
            "Epoch 64/100\n",
            "484/484 [==============================] - 14s 28ms/step - loss: 1.9258 - accuracy: 0.5221\n",
            "Epoch 65/100\n",
            "484/484 [==============================] - 14s 29ms/step - loss: 1.9081 - accuracy: 0.5234\n",
            "Epoch 66/100\n",
            "484/484 [==============================] - 14s 28ms/step - loss: 1.8870 - accuracy: 0.5297\n",
            "Epoch 67/100\n",
            "484/484 [==============================] - 14s 28ms/step - loss: 1.8552 - accuracy: 0.5393\n",
            "Epoch 68/100\n",
            "484/484 [==============================] - 14s 28ms/step - loss: 1.8389 - accuracy: 0.5416\n",
            "Epoch 69/100\n",
            "484/484 [==============================] - 14s 28ms/step - loss: 1.8101 - accuracy: 0.5484\n",
            "Epoch 70/100\n",
            "484/484 [==============================] - 14s 28ms/step - loss: 1.8050 - accuracy: 0.5508\n",
            "Epoch 71/100\n",
            "484/484 [==============================] - 14s 28ms/step - loss: 1.7896 - accuracy: 0.5507\n",
            "Epoch 72/100\n",
            "484/484 [==============================] - 14s 28ms/step - loss: 1.7550 - accuracy: 0.5604\n",
            "Epoch 73/100\n",
            "484/484 [==============================] - 14s 28ms/step - loss: 1.7483 - accuracy: 0.5598\n",
            "Epoch 74/100\n",
            "484/484 [==============================] - 14s 28ms/step - loss: 1.7193 - accuracy: 0.5682\n",
            "Epoch 75/100\n",
            "484/484 [==============================] - 14s 28ms/step - loss: 1.7174 - accuracy: 0.5655\n",
            "Epoch 76/100\n",
            "484/484 [==============================] - 14s 28ms/step - loss: 1.6830 - accuracy: 0.5760\n",
            "Epoch 77/100\n",
            "484/484 [==============================] - 14s 28ms/step - loss: 1.6723 - accuracy: 0.5779\n",
            "Epoch 78/100\n",
            "484/484 [==============================] - 14s 28ms/step - loss: 1.6538 - accuracy: 0.5827\n",
            "Epoch 79/100\n",
            "484/484 [==============================] - 13s 28ms/step - loss: 1.6379 - accuracy: 0.5876\n",
            "Epoch 80/100\n",
            "484/484 [==============================] - 14s 28ms/step - loss: 1.6347 - accuracy: 0.5863\n",
            "Epoch 81/100\n",
            "484/484 [==============================] - 14s 28ms/step - loss: 1.6167 - accuracy: 0.5897\n",
            "Epoch 82/100\n",
            "484/484 [==============================] - 14s 28ms/step - loss: 1.5953 - accuracy: 0.5923\n",
            "Epoch 83/100\n",
            "484/484 [==============================] - 14s 29ms/step - loss: 1.5827 - accuracy: 0.5987\n",
            "Epoch 84/100\n",
            "484/484 [==============================] - 14s 28ms/step - loss: 1.5669 - accuracy: 0.6030\n",
            "Epoch 85/100\n",
            "484/484 [==============================] - 14s 29ms/step - loss: 1.5609 - accuracy: 0.6028\n",
            "Epoch 86/100\n",
            "484/484 [==============================] - 14s 28ms/step - loss: 1.5433 - accuracy: 0.6088\n",
            "Epoch 87/100\n",
            "484/484 [==============================] - 14s 28ms/step - loss: 1.5231 - accuracy: 0.6112\n",
            "Epoch 88/100\n",
            "484/484 [==============================] - 14s 28ms/step - loss: 1.5128 - accuracy: 0.6178\n",
            "Epoch 89/100\n",
            "484/484 [==============================] - 14s 28ms/step - loss: 1.5066 - accuracy: 0.6201\n",
            "Epoch 90/100\n",
            "484/484 [==============================] - 14s 28ms/step - loss: 1.4948 - accuracy: 0.6186\n",
            "Epoch 91/100\n",
            "484/484 [==============================] - 14s 28ms/step - loss: 1.4905 - accuracy: 0.6205\n",
            "Epoch 92/100\n",
            "484/484 [==============================] - 14s 28ms/step - loss: 1.4566 - accuracy: 0.6312\n",
            "Epoch 93/100\n",
            "484/484 [==============================] - 13s 28ms/step - loss: 1.4545 - accuracy: 0.6286\n",
            "Epoch 94/100\n",
            "484/484 [==============================] - 14s 28ms/step - loss: 1.4265 - accuracy: 0.6376\n",
            "Epoch 95/100\n",
            "484/484 [==============================] - 14s 28ms/step - loss: 1.4447 - accuracy: 0.6348\n",
            "Epoch 96/100\n",
            "484/484 [==============================] - 14s 28ms/step - loss: 1.4198 - accuracy: 0.6383\n",
            "Epoch 97/100\n",
            "484/484 [==============================] - 14s 28ms/step - loss: 1.3976 - accuracy: 0.6434\n",
            "Epoch 98/100\n",
            "484/484 [==============================] - 14s 28ms/step - loss: 1.4023 - accuracy: 0.6417\n",
            "Epoch 99/100\n",
            "484/484 [==============================] - 14s 28ms/step - loss: 1.3880 - accuracy: 0.6469\n",
            "Epoch 100/100\n",
            "484/484 [==============================] - 14s 29ms/step - loss: 1.3823 - accuracy: 0.6449\n"
          ]
        }
      ],
      "source": [
        "history = model.fit(predictors, label, epochs=100, verbose=1)"
      ]
    },
    {
      "cell_type": "code",
      "execution_count": 8,
      "metadata": {
        "colab": {
          "base_uri": "https://localhost:8080/",
          "height": 545
        },
        "id": "1fXTEO3GJ282",
        "outputId": "b3af7645-64bc-4284-b33a-440a563958fe"
      },
      "outputs": [
        {
          "output_type": "display_data",
          "data": {
            "text/plain": [
              "<Figure size 432x288 with 1 Axes>"
            ],
            "image/png": "[encoded data removed]"
          },
          "metadata": {
            "needs_background": "light"
          }
        },
        {
          "output_type": "display_data",
          "data": {
            "text/plain": [
              "<Figure size 432x288 with 1 Axes>"
            ],
            "image/png": "[encoded data removed]"
          },
          "metadata": {
            "needs_background": "light"
          }
        }
      ],
      "source": [
        "import matplotlib.pyplot as plt\n",
        "acc = history.history['accuracy']\n",
        "loss = history.history['loss']\n",
        "\n",
        "epochs = range(len(acc))\n",
        "\n",
        "plt.plot(epochs, acc, 'b', label='Training accuracy')\n",
        "plt.title('Training accuracy')\n",
        "\n",
        "plt.figure()\n",
        "\n",
        "plt.plot(epochs, loss, 'b', label='Training Loss')\n",
        "plt.title('Training loss')\n",
        "plt.legend()\n",
        "\n",
        "plt.show()"
      ]
    },
    {
      "cell_type": "code",
      "execution_count": 9,
      "metadata": {
        "colab": {
          "base_uri": "https://localhost:8080/",
          "height": 235
        },
        "id": "6Vc6PHgxa6Hm",
        "outputId": "4d38becd-b496-4ebc-ed25-9d67f97a6664"
      },
      "outputs": [
        {
          "output_type": "error",
          "ename": "AttributeError",
          "evalue": "ignored",
          "traceback": [
            "\u001b[0;31m---------------------------------------------------------------------------\u001b[0m",
            "\u001b[0;31mAttributeError\u001b[0m                            Traceback (most recent call last)",
            "\u001b[0;32m<ipython-input-9-622d307fa19a>\u001b[0m in \u001b[0;36m<module>\u001b[0;34m()\u001b[0m\n\u001b[1;32m      5\u001b[0m         \u001b[0mtoken_list\u001b[0m \u001b[0;34m=\u001b[0m \u001b[0mtokenizer\u001b[0m\u001b[0;34m.\u001b[0m\u001b[0mtexts_to_sequences\u001b[0m\u001b[0;34m(\u001b[0m\u001b[0;34m[\u001b[0m\u001b[0mseed_text\u001b[0m\u001b[0;34m]\u001b[0m\u001b[0;34m)\u001b[0m\u001b[0;34m[\u001b[0m\u001b[0;36m0\u001b[0m\u001b[0;34m]\u001b[0m\u001b[0;34m\u001b[0m\u001b[0;34m\u001b[0m\u001b[0m\n\u001b[1;32m      6\u001b[0m         \u001b[0mtoken_list\u001b[0m \u001b[0;34m=\u001b[0m \u001b[0mpad_sequences\u001b[0m\u001b[0;34m(\u001b[0m\u001b[0;34m[\u001b[0m\u001b[0mtoken_list\u001b[0m\u001b[0;34m]\u001b[0m\u001b[0;34m,\u001b[0m \u001b[0mmaxlen\u001b[0m\u001b[0;34m=\u001b[0m\u001b[0mmax_sequence_len\u001b[0m\u001b[0;34m-\u001b[0m\u001b[0;36m1\u001b[0m\u001b[0;34m,\u001b[0m \u001b[0mpadding\u001b[0m\u001b[0;34m=\u001b[0m\u001b[0;34m'pre'\u001b[0m\u001b[0;34m)\u001b[0m\u001b[0;34m\u001b[0m\u001b[0;34m\u001b[0m\u001b[0m\n\u001b[0;32m----> 7\u001b[0;31m         \u001b[0mpredicted\u001b[0m \u001b[0;34m=\u001b[0m \u001b[0mmodel\u001b[0m\u001b[0;34m.\u001b[0m\u001b[0mpredict_classes\u001b[0m\u001b[0;34m(\u001b[0m\u001b[0mtoken_list\u001b[0m\u001b[0;34m,\u001b[0m \u001b[0mverbose\u001b[0m\u001b[0;34m=\u001b[0m\u001b[0;36m0\u001b[0m\u001b[0;34m)\u001b[0m\u001b[0;34m\u001b[0m\u001b[0;34m\u001b[0m\u001b[0m\n\u001b[0m\u001b[1;32m      8\u001b[0m         \u001b[0moutput_word\u001b[0m \u001b[0;34m=\u001b[0m \u001b[0;34m\"\"\u001b[0m\u001b[0;34m\u001b[0m\u001b[0;34m\u001b[0m\u001b[0m\n\u001b[1;32m      9\u001b[0m         \u001b[0;32mfor\u001b[0m \u001b[0mword\u001b[0m\u001b[0;34m,\u001b[0m \u001b[0mindex\u001b[0m \u001b[0;32min\u001b[0m \u001b[0mtokenizer\u001b[0m\u001b[0;34m.\u001b[0m\u001b[0mword_index\u001b[0m\u001b[0;34m.\u001b[0m\u001b[0mitems\u001b[0m\u001b[0;34m(\u001b[0m\u001b[0;34m)\u001b[0m\u001b[0;34m:\u001b[0m\u001b[0;34m\u001b[0m\u001b[0;34m\u001b[0m\u001b[0m\n",
            "\u001b[0;31mAttributeError\u001b[0m: 'Sequential' object has no attribute 'predict_classes'"
          ]
        }
      ],
      "source": [
        "seed_text = \"Help me Obi Wan Kenobi, you're my only hope\"\n",
        "next_words = 100\n",
        "  \n",
        "for _ in range(next_words):\n",
        "\ttoken_list = tokenizer.texts_to_sequences([seed_text])[0]\n",
        "\ttoken_list = pad_sequences([token_list], maxlen=max_sequence_len-1, padding='pre')\n",
        "\tpredicted = model.predict_classes(token_list, verbose=0)\n",
        "\toutput_word = \"\"\n",
        "\tfor word, index in tokenizer.word_index.items():\n",
        "\t\tif index == predicted:\n",
        "\t\t\toutput_word = word\n",
        "\t\t\tbreak\n",
        "\tseed_text += \" \" + output_word\n",
        "print(seed_text)"
      ]
    }
  ],
  "metadata": {
    "accelerator": "GPU",
    "colab": {
      "name": "NLP_Week4_Exercise_Shakespeare_Question.ipynb",
      "provenance": [],
      "toc_visible": true
    },
    "kernelspec": {
      "display_name": "Python 3",
      "name": "python3"
    },
    "gpuClass": "standard"
  },
  "nbformat": 4,
  "nbformat_minor": 0
}